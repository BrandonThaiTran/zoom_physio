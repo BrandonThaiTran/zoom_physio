{
 "cells": [
  {
   "cell_type": "code",
   "execution_count": null,
   "id": "political-howard",
   "metadata": {},
   "outputs": [],
   "source": []
  }
 ],
 "metadata": {
  "kernelspec": {
   "display_name": "zoom-physio-e4BDv3U9-py3.8",
   "language": "python",
   "name": "zoom-physio-e4bdv3u9-py3.8"
  },
  "language_info": {
   "codemirror_mode": {
    "name": "ipython",
    "version": 3
   },
   "file_extension": ".py",
   "mimetype": "text/x-python",
   "name": "python",
   "nbconvert_exporter": "python",
   "pygments_lexer": "ipython3",
   "version": "3.8.3"
  }
 },
 "nbformat": 4,
 "nbformat_minor": 5
}
