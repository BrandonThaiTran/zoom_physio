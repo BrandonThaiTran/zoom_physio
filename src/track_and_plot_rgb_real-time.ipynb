{
 "cells": [
  {
   "cell_type": "markdown",
   "metadata": {},
   "source": [
    "# run on all images"
   ]
  },
  {
   "cell_type": "code",
   "execution_count": 1,
   "metadata": {},
   "outputs": [],
   "source": [
    "import PyQt5\n",
    "%matplotlib notebook\n",
    "import numpy as np\n",
    "import cv2\n",
    "import matplotlib.pyplot as plt\n",
    "import os\n",
    "from sklearn.preprocessing import StandardScaler, Normalizer"
   ]
  },
  {
   "cell_type": "code",
   "execution_count": 2,
   "metadata": {},
   "outputs": [],
   "source": [
    "def show_image(_path):\n",
    "    img = cv2.imread(_path,1)\n",
    "    while True:\n",
    "        cv2.imshow('image',img)\n",
    "        key = cv2.waitKey(1) & 0xFF\n",
    "        # if the `q` key was pressed, break from the loop\n",
    "        if key == ord(\"q\"):\n",
    "            # do a bit of cleanup\n",
    "            cv2.destroyAllWindows()\n",
    "            break"
   ]
  },
  {
   "cell_type": "code",
   "execution_count": 3,
   "metadata": {},
   "outputs": [],
   "source": [
    "# Load an color image in grayscale\n",
    "path = '../processed/data_aligned/'\n",
    "image_name = 'frame_det_00_000002.bmp'\n",
    "show_image(path+ image_name)"
   ]
  },
  {
   "cell_type": "code",
   "execution_count": 4,
   "metadata": {},
   "outputs": [],
   "source": [
    "r_avg = []\n",
    "g_avg = []\n",
    "b_avg = []\n",
    "\n",
    "for image_path in os.listdir(path):\n",
    "    # create the full input path and read the file\n",
    "    input_path = os.path.join(path, image_path)\n",
    "    image_to_display = cv2.imread(input_path)\n",
    "    \n",
    "    r_avg.append(np.average(image_to_display[:,:,0]))\n",
    "    g_avg.append(np.average(image_to_display[:,:,1]))\n",
    "    b_avg.append(np.average(image_to_display[:,:,2]))\n",
    "    \n",
    "r = np.asarray(r_avg).reshape(1,-1) / 255\n",
    "g = np.asarray(g_avg).reshape(1,-1) / 255\n",
    "b = np.asarray(b_avg).reshape(1,-1) / 255"
   ]
  },
  {
   "cell_type": "code",
   "execution_count": 5,
   "metadata": {},
   "outputs": [
    {
     "data": {
      "text/plain": [
       "<matplotlib.legend.Legend at 0x7f3aa61289d0>"
      ]
     },
     "execution_count": 5,
     "metadata": {},
     "output_type": "execute_result"
    },
    {
     "data": {
      "image/png": "[encoded data removed]",
      "text/plain": [
       "<Figure size 432x288 with 1 Axes>"
      ]
     },
     "metadata": {
      "needs_background": "light"
     },
     "output_type": "display_data"
    }
   ],
   "source": [
    "# plot\n",
    "%matplotlib inline\n",
    "n_frames = np.arange(len(os.listdir(path))).reshape(1,-1)\n",
    "plt.plot(n_frames.T, r.T, color='red', label = 'red')\n",
    "plt.plot(n_frames.T, g.T, color='green', label='green')\n",
    "plt.plot(n_frames.T, b.T, color='blue', label='blue')\n",
    "plt.legend()"
   ]
  },
  {
   "cell_type": "markdown",
   "metadata": {},
   "source": [
    "# plot in real time"
   ]
  },
  {
   "cell_type": "code",
   "execution_count": 23,
   "metadata": {},
   "outputs": [],
   "source": [
    "import imutils\n",
    "import cv2\n",
    "from imutils.video import VideoStream, FileVideoStream\n",
    "import time\n",
    "import numpy as np\n",
    "from jupyterplot import ProgressPlot\n",
    "\n",
    "\n",
    "# Load the model\n",
    "modelFile = \"../models/res10_300x300_ssd_iter_140000.caffemodel\"\n",
    "configFile = \"../models/deploy.prototxt.txt\"\n",
    "net = cv2.dnn.readNetFromCaffe(configFile, modelFile)\n",
    "confidence_threshold = .7\n",
    "\n",
    "def stream_rgb(filename=None):\n",
    "    # To capture video from webcam.\n",
    "    if not filename:\n",
    "        vs = VideoStream(src=0).start()\n",
    "    else:\n",
    "        # To use a video file as input \n",
    "        vs = FileVideoStream(filename).start()\n",
    "    time.sleep(2.0)\n",
    "    # set up plotting\n",
    "    r = []\n",
    "    g = []\n",
    "    b = []\n",
    "    while True:\n",
    "        # grab frame and resize\n",
    "        frame = vs.read()\n",
    "        frame = imutils.resize(frame, width=400)\n",
    "        # grab the frame dimensions and convert it to a blob\n",
    "        (h, w) = frame.shape[:2]\n",
    "        blob = cv2.dnn.blobFromImage(cv2.resize(frame, (300, 300)), 1.0,\n",
    "            (300, 300), (104.0, 177.0, 123.0))\n",
    "        # pass the blob through the network and obtain the detections and\n",
    "        # predictions\n",
    "        net.setInput(blob)\n",
    "        detections = net.forward()\n",
    "        for i in range(0, detections.shape[2]):\n",
    "            # extract the confidence (i.e., probability) associated with the\n",
    "            # prediction\n",
    "            confidence = detections[0, 0, i, 2]\n",
    "            # filter out weak detections by ensuring the `confidence` is\n",
    "            # greater than the minimum confidence\n",
    "            if confidence < confidence_threshold:\n",
    "                continue\n",
    "            # compute the (x, y)-coordinates of the bounding box for the\n",
    "            # object\n",
    "            box = detections[0, 0, i, 3:7] * np.array([w, h, w, h])\n",
    "            (startX, startY, endX, endY) = box.astype(\"int\")\n",
    "            box_im = frame[startY:endY, startX:endX,:]\n",
    "            # append averages\n",
    "            r.append(np.average(box_im[:,:,0]) / 255)\n",
    "            g.append(np.average(box_im[:,:,1]) / 255)\n",
    "            b.append(np.average(box_im[:,:,2]) / 255)\n",
    "\n",
    "            # draw the bounding box of the face along with the associated\n",
    "            # probability\n",
    "            text = \"{:.2f}%\".format(confidence * 100)\n",
    "            y = startY - 10 if startY - 10 > 10 else startY + 10\n",
    "            cv2.rectangle(frame, (startX, startY), (endX, endY),\n",
    "                (0, 0, 255), 2)\n",
    "            cv2.putText(frame, text, (startX, y),\n",
    "                cv2.FONT_HERSHEY_SIMPLEX, 0.45, (0, 0, 255), 2)\n",
    "        \n",
    "        # show the box frame\n",
    "        cv2.imshow(\"Frame\", box_im)\n",
    "        # show the frame\n",
    "#         cv2.imshow(\"Frame\", frame)\n",
    "        # plot rgb signals \n",
    "        num_frames = range(len(r))\n",
    "        plt.plot(num_frames, r, color='red', label = 'red')\n",
    "        plt.plot(num_frames, g, color='green', label='green')\n",
    "        plt.plot(num_frames, b, color='blue', label='blue')\n",
    "        plt.ylim([0,1])\n",
    "        key = cv2.waitKey(1) & 0xFF\n",
    "\n",
    "        # if the `q` key was pressed, break from the loop\n",
    "        if key == ord(\"q\"):\n",
    "            # do a bit of cleanup\n",
    "            cv2.destroyAllWindows()\n",
    "            vs.stop()\n",
    "            break\n",
    "    return r, g, b"
   ]
  },
  {
   "cell_type": "code",
   "execution_count": 24,
   "metadata": {},
   "outputs": [
    {
     "data": {
      "image/png": "[encoded data removed]",
      "text/plain": [
       "<Figure size 432x288 with 1 Axes>"
      ]
     },
     "metadata": {
      "needs_background": "light"
     },
     "output_type": "display_data"
    }
   ],
   "source": [
    "r, g, b = stream_rgb()"
   ]
  },
  {
   "cell_type": "markdown",
   "metadata": {},
   "source": [
    "# FFT"
   ]
  },
  {
   "cell_type": "code",
   "execution_count": 10,
   "metadata": {},
   "outputs": [
    {
     "name": "stdout",
     "output_type": "stream",
     "text": [
      "(1, 1208)\n"
     ]
    }
   ],
   "source": [
    "print(r.shape)"
   ]
  },
  {
   "cell_type": "code",
   "execution_count": 27,
   "metadata": {},
   "outputs": [],
   "source": [
    "from scipy.fft import fft, ifft\n",
    "\n",
    "num_frames = range(len(r))\n",
    "fft_r = np.abs(fft(r))\n",
    "fft_g = fft(g)\n",
    "fft_b = fft(b)"
   ]
  },
  {
   "cell_type": "code",
   "execution_count": 28,
   "metadata": {},
   "outputs": [
    {
     "data": {
      "text/plain": [
       "[<matplotlib.lines.Line2D at 0x7f39f7742a90>]"
      ]
     },
     "execution_count": 28,
     "metadata": {},
     "output_type": "execute_result"
    },
    {
     "data": {
      "image/png": "[encoded data removed]",
      "text/plain": [
       "<Figure size 432x288 with 1 Axes>"
      ]
     },
     "metadata": {
      "needs_background": "light"
     },
     "output_type": "display_data"
    }
   ],
   "source": [
    "plt.plot(num_frames,fft_r, color='red', label = 'red')\n",
    "# plt.plot(num_frames, fft_g, color='green', label='green')\n",
    "# plt.plot(num_frames, fft_b, color='blue', label='blue')"
   ]
  },
  {
   "cell_type": "code",
   "execution_count": null,
   "metadata": {},
   "outputs": [],
   "source": []
  }
 ],
 "metadata": {
  "kernelspec": {
   "display_name": "Python 3",
   "language": "python",
   "name": "python3"
  },
  "language_info": {
   "codemirror_mode": {
    "name": "ipython",
    "version": 3
   },
   "file_extension": ".py",
   "mimetype": "text/x-python",
   "name": "python",
   "nbconvert_exporter": "python",
   "pygments_lexer": "ipython3",
   "version": "3.9.1+"
  }
 },
 "nbformat": 4,
 "nbformat_minor": 4
}
